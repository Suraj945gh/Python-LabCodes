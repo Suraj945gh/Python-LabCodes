{
  "nbformat": 4,
  "nbformat_minor": 0,
  "metadata": {
    "colab": {
      "provenance": [],
      "authorship_tag": "ABX9TyOLDBi4oYkUZHGSmAGjgKPK",
      "include_colab_link": true
    },
    "kernelspec": {
      "name": "python3",
      "display_name": "Python 3"
    },
    "language_info": {
      "name": "python"
    }
  },
  "cells": [
    {
      "cell_type": "markdown",
      "metadata": {
        "id": "view-in-github",
        "colab_type": "text"
      },
      "source": [
        "<a href=\"https://colab.research.google.com/github/Suraj945gh/Python-LabCodes/blob/main/Assignment4_Python.ipynb\" target=\"_parent\"><img src=\"https://colab.research.google.com/assets/colab-badge.svg\" alt=\"Open In Colab\"/></a>"
      ]
    },
    {
      "cell_type": "markdown",
      "source": [
        "Question 1: WA function to calculate arithmetic mean of variable number of values"
      ],
      "metadata": {
        "id": "h9DVU7AqUX05"
      }
    },
    {
      "cell_type": "code",
      "source": [
        "sum=0\n",
        "iterable=[1,2,3,4,5]\n",
        "def arith_mean(iterable):\n",
        "  global sum\n",
        "  for i in iterable:\n",
        "    sum += i\n",
        "\n",
        "  mean = sum/(len(iterable))\n",
        "  print(mean)\n",
        "\n",
        "arith_mean(iterable)"
      ],
      "metadata": {
        "colab": {
          "base_uri": "https://localhost:8080/"
        },
        "id": "Dk-ukiqVVN24",
        "outputId": "95b1a213-7675-4af3-b630-9da875cf8f6a"
      },
      "execution_count": 31,
      "outputs": [
        {
          "output_type": "stream",
          "name": "stdout",
          "text": [
            "3.0\n"
          ]
        }
      ]
    },
    {
      "cell_type": "markdown",
      "source": [
        "Question 2: WA lambda function to find largest of 2 numbers"
      ],
      "metadata": {
        "id": "fLDL9oFHUkng"
      }
    },
    {
      "cell_type": "code",
      "source": [
        "find_largest = lambda x,y: x if x> y else y\n",
        "find_largest(45,66)"
      ],
      "metadata": {
        "colab": {
          "base_uri": "https://localhost:8080/"
        },
        "id": "csYhBBnTXDpX",
        "outputId": "7d5d9df1-017c-405c-c99a-dce6a7b1fec0"
      },
      "execution_count": 2,
      "outputs": [
        {
          "output_type": "execute_result",
          "data": {
            "text/plain": [
              "66"
            ]
          },
          "metadata": {},
          "execution_count": 2
        }
      ]
    },
    {
      "cell_type": "markdown",
      "source": [
        "Question 3: Use lambda function to return a square value of a given number."
      ],
      "metadata": {
        "id": "jwR0z38UUpFQ"
      }
    },
    {
      "cell_type": "code",
      "source": [
        "squared_num = lambda i: i*i\n",
        "squared_num(5)"
      ],
      "metadata": {
        "colab": {
          "base_uri": "https://localhost:8080/"
        },
        "id": "mMA0ffxdXfN-",
        "outputId": "1346cf8a-feca-4d95-f632-82d7be72a421"
      },
      "execution_count": 3,
      "outputs": [
        {
          "output_type": "execute_result",
          "data": {
            "text/plain": [
              "25"
            ]
          },
          "metadata": {},
          "execution_count": 3
        }
      ]
    },
    {
      "cell_type": "markdown",
      "source": [
        "Question 4: Write a program using filter() to filter out even numbers from a list."
      ],
      "metadata": {
        "id": "MssPubJvU0Pf"
      }
    },
    {
      "cell_type": "code",
      "source": [
        "mylist = [ 22, 45, 6, 7, 12]\n",
        "\n",
        "even_nums = filter( lambda x: x%2 == 0, mylist)\n",
        "print(list(even_nums))"
      ],
      "metadata": {
        "colab": {
          "base_uri": "https://localhost:8080/"
        },
        "id": "3UQIKWFOXryn",
        "outputId": "d2a6221a-d2f9-4246-95e6-20c5f7247ec7"
      },
      "execution_count": 4,
      "outputs": [
        {
          "output_type": "stream",
          "name": "stdout",
          "text": [
            "[22, 6, 12]\n"
          ]
        }
      ]
    },
    {
      "cell_type": "markdown",
      "source": [
        "Question 5: Write a program using map() to filter out even numbers from a list."
      ],
      "metadata": {
        "id": "qlAMHRpFU-Xg"
      }
    },
    {
      "cell_type": "code",
      "source": [
        "mylist2 = [ 22, 45, 6, 7, 12, 56]\n",
        "\n",
        "even_nums_map = list(map( lambda x: x%2 == 0, mylist2))\n",
        "\n",
        "for i, is_even in enumerate(even_nums_map):\n",
        "  if is_even:\n",
        "    print(mylist2[i])\n",
        "  else:\n",
        "    continue\n",
        "\n",
        "temp = list(enumerate(even_nums_map))\n",
        "print(temp)"
      ],
      "metadata": {
        "colab": {
          "base_uri": "https://localhost:8080/"
        },
        "id": "2pu2f7YlaCTe",
        "outputId": "c6091759-c77e-4402-c3b7-9c0d2e0e55a2"
      },
      "execution_count": 17,
      "outputs": [
        {
          "output_type": "stream",
          "name": "stdout",
          "text": [
            "22\n",
            "6\n",
            "12\n",
            "56\n",
            "[(0, True), (1, False), (2, True), (3, False), (4, True), (5, True)]\n"
          ]
        }
      ]
    },
    {
      "cell_type": "markdown",
      "source": [
        "Question 6: Write a program using reduce() with a lambda expression to find product of elements in a list."
      ],
      "metadata": {
        "id": "T_oPZUVeVHrw"
      }
    },
    {
      "cell_type": "code",
      "execution_count": 18,
      "metadata": {
        "colab": {
          "base_uri": "https://localhost:8080/"
        },
        "id": "U2i0xtYFTQJS",
        "outputId": "bc1db996-5614-4829-8301-13d100c74154"
      },
      "outputs": [
        {
          "output_type": "stream",
          "name": "stdout",
          "text": [
            "80\n"
          ]
        }
      ],
      "source": [
        "from functools import reduce\n",
        "int_list = [2,4,5,1,2]\n",
        "\n",
        "product = reduce( lambda x,y: x*y, int_list)\n",
        "print(product)"
      ]
    }
  ]
}