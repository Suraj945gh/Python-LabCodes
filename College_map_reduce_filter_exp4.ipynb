{
  "cells": [
    {
      "cell_type": "markdown",
      "metadata": {
        "id": "RsFQy7McVH_W"
      },
      "source": [
        "In Python, a lambda function is a small anonymous function without a name. It is defined using the lambda keyword and has the following syntax:\n",
        "lambda arguments: expression\n",
        "\n",
        "Lambda functions are often used in situations where a small function is required for a short period of time. They are commonly used as arguments to higher-order functions, such as map, filter, and reduce.\n",
        "\n",
        "Here is an example of how to use a lambda function:"
      ]
    },
    {
      "cell_type": "code",
      "execution_count": null,
      "metadata": {
        "id": "zJl2PW2MV-p0",
        "colab": {
          "base_uri": "https://localhost:8080/"
        },
        "outputId": "e4943d1b-2501-4d6d-8276-7af3684c8661"
      },
      "outputs": [
        {
          "output_type": "stream",
          "name": "stdout",
          "text": [
            "20\n"
          ]
        },
        {
          "output_type": "execute_result",
          "data": {
            "text/plain": [
              "20"
            ]
          },
          "metadata": {},
          "execution_count": 4
        }
      ],
      "source": [
        "# Normal Function to double the input\n",
        "def double(x):\n",
        "  return x * 2\n",
        "\n",
        "# Lambda function to double the input\n",
        "lambda x: x * 2\n",
        "print(x(10))\n",
        "double(10)"
      ]
    },
    {
      "cell_type": "code",
      "execution_count": null,
      "metadata": {
        "id": "G-6emjypSbHR",
        "colab": {
          "base_uri": "https://localhost:8080/"
        },
        "outputId": "bad0e2f4-9bc2-4cdc-accb-667c27c890b4"
      },
      "outputs": [
        {
          "output_type": "stream",
          "name": "stdout",
          "text": [
            "15\n"
          ]
        }
      ],
      "source": [
        "x = lambda a : a + 10\n",
        "print(x(5))"
      ]
    },
    {
      "cell_type": "markdown",
      "metadata": {
        "id": "sbzLfQsTV-p1"
      },
      "source": [
        "The above lambda function has the same functionality as the double function defined earlier. However, the lambda function is anonymous, as it does not have a name.\n",
        "\n",
        "Lambda functions can have multiple arguments, just like regular functions. Here is an example of a lambda function with multiple arguments:"
      ]
    },
    {
      "cell_type": "code",
      "execution_count": null,
      "metadata": {
        "id": "BseYM9awV-p2",
        "colab": {
          "base_uri": "https://localhost:8080/"
        },
        "outputId": "a045830f-46c4-4311-d1d2-6bdd1c2ba478"
      },
      "outputs": [
        {
          "output_type": "stream",
          "name": "stdout",
          "text": [
            "10\n"
          ]
        }
      ],
      "source": [
        "# Function to calculate the product of two numbers\n",
        "def multiply(x, y):\n",
        "    return x * y\n",
        "\n",
        "# Lambda function to calculate the product of two numbers\n",
        "product = lambda x, y: x * y\n",
        "print(product(5,2))"
      ]
    },
    {
      "cell_type": "code",
      "execution_count": null,
      "metadata": {
        "id": "BxnoR_ciVdTL",
        "colab": {
          "base_uri": "https://localhost:8080/"
        },
        "outputId": "63c37c99-2741-4d80-c824-730b415534f2"
      },
      "outputs": [
        {
          "output_type": "stream",
          "name": "stdout",
          "text": [
            "30\n"
          ]
        }
      ],
      "source": [
        "x = lambda a, b : a * b\n",
        "print(x(5, 6))"
      ]
    },
    {
      "cell_type": "code",
      "execution_count": null,
      "metadata": {
        "id": "D0GfeyHeViD_",
        "colab": {
          "base_uri": "https://localhost:8080/"
        },
        "outputId": "16429459-a2aa-43fe-90b7-d43f66ef7cd8"
      },
      "outputs": [
        {
          "output_type": "stream",
          "name": "stdout",
          "text": [
            "13\n"
          ]
        }
      ],
      "source": [
        "x = lambda a, b, c : a + b + c\n",
        "print(x(5, 6, 2))"
      ]
    },
    {
      "cell_type": "code",
      "execution_count": null,
      "metadata": {
        "id": "k5yu1xgMV9mG",
        "colab": {
          "base_uri": "https://localhost:8080/"
        },
        "outputId": "038f1eaa-8f45-4942-c559-0842080fe86a"
      },
      "outputs": [
        {
          "output_type": "stream",
          "name": "stdout",
          "text": [
            "22\n"
          ]
        }
      ],
      "source": [
        "def myfunc(n):\n",
        "  return lambda a : a * n\n",
        "# Iska matlab hai ki normal function mai bhi lambda function daalsakte hai\n",
        "mydoubler = myfunc(2)\n",
        "\n",
        "print(mydoubler(11))"
      ]
    },
    {
      "cell_type": "markdown",
      "metadata": {
        "id": "tuWAuRIOV-p2"
      },
      "source": [
        "Lambda functions can also include multiple statements, but they are limited to a single expression. For example:"
      ]
    },
    {
      "cell_type": "code",
      "execution_count": null,
      "metadata": {
        "id": "MYFudrB2V-p2",
        "colab": {
          "base_uri": "https://localhost:8080/"
        },
        "outputId": "9e65b183-bc00-4e6f-cd8d-e6ec4805b085"
      },
      "outputs": [
        {
          "output_type": "stream",
          "name": "stdout",
          "text": [
            "2 * 5 = 10\n"
          ]
        }
      ],
      "source": [
        "# Lambda function to calculate the product of two numbers,\n",
        "# with additional print statement\n",
        "output = lambda x, y: print(f'{x} * {y} = {x * y}')\n",
        "output(2,5)"
      ]
    },
    {
      "cell_type": "markdown",
      "metadata": {
        "id": "UZwZ8N2wV-p3"
      },
      "source": [
        "In the above example, the lambda function includes a print statement, but it is still limited to a single expression.\n",
        "\n",
        "Lambda functions are often used in conjunction with higher-order functions, such as map, filter, and reduce"
      ]
    },
    {
      "cell_type": "markdown",
      "metadata": {
        "id": "h9vSyLSxV-p3"
      },
      "source": [
        "# **Filter Function**\n",
        "\n",
        "The filter function filters a sequence of elements based on a given predicate (a function that returns a boolean value) and returns a new sequence containing only the elements that meet the predicate. The filter function has the following syntax:\n",
        "\n",
        "filter(predicate, iterable)\n",
        "\n",
        "The predicate argument is a function that returns a boolean value and is applied to each element in the iterable argument. The iterable argument can be a list, tuple, or any other iterable object.\n",
        "\n",
        "Here is an example of how to use the filter function:"
      ]
    },
    {
      "cell_type": "code",
      "execution_count": null,
      "metadata": {
        "colab": {
          "base_uri": "https://localhost:8080/"
        },
        "id": "dJWLbmujV-p3",
        "outputId": "bef85bb5-0958-4cd5-d319-d5b0f58a30df"
      },
      "outputs": [
        {
          "output_type": "stream",
          "name": "stdout",
          "text": [
            "[2, 4]\n",
            "<class 'filter'>\n"
          ]
        }
      ],
      "source": [
        "# List of numbers\n",
        "numbers = [1, 2, 3, 4, 5]\n",
        "\n",
        "# Get only the even numbers using the filter function\n",
        "evens = filter(lambda x: x % 2 == 0, numbers)\n",
        "# Print the even numbers\n",
        "print(list(evens))\n",
        "print(type(evens))"
      ]
    },
    {
      "cell_type": "markdown",
      "metadata": {
        "id": "ZXUSJ568V-p3"
      },
      "source": [
        "In the above example, the lambda function lambda x: x % 2 == 0 is used to filter the numbers list and return only the even numbers. The filter function applies the lambda function to each element in the list and returns a new list containing only the even numbers."
      ]
    },
    {
      "cell_type": "markdown",
      "metadata": {
        "id": "y1CWplBjWzOE"
      },
      "source": [
        "\n",
        "The filter() function returns an iterator were the items are filtered through a function to test if the item is accepted or not.\n",
        "Syntax\n",
        "*filter(function, iterable)*\n",
        "**Parameter Values**\n",
        "*   function : \tA Function to be run for each item in the iterable\n",
        "*   iterable : \tThe iterable to be filtered"
      ]
    },
    {
      "cell_type": "markdown",
      "metadata": {
        "id": "mYN4z60_XV4K"
      },
      "source": [
        "**Filter the array, and return a new array with only the values equal to or above 18**"
      ]
    },
    {
      "cell_type": "code",
      "execution_count": null,
      "metadata": {
        "id": "LS20SDluV9tV",
        "colab": {
          "base_uri": "https://localhost:8080/"
        },
        "outputId": "dbc8b94b-ccb2-497a-aed4-f4c8bead4bd8"
      },
      "outputs": [
        {
          "output_type": "stream",
          "name": "stdout",
          "text": [
            "18\n",
            "24\n",
            "32\n"
          ]
        }
      ],
      "source": [
        "ages = [5, 12, 17, 18, 24, 32]\n",
        "\n",
        "def myFunc(x):\n",
        "  if x < 18:\n",
        "    return False\n",
        "  else:\n",
        "    return True\n",
        "\n",
        "adults = filter(myFunc, ages)\n",
        "# Basically means ki yeh iterable pe filter iss function ke logic se kro\n",
        "for x in adults:\n",
        "  print(x)"
      ]
    },
    {
      "cell_type": "markdown",
      "metadata": {
        "id": "4HfrQ4P8XpQ4"
      },
      "source": [
        "# **Python map() Function**\n",
        "The map function applies a function to each element in a sequence and returns a new sequence containing the transformed elements. The map function has the following syntax:\n",
        "\n",
        "map(function, iterable)\n",
        "\n",
        "The function argument is a function that is applied to each element in the iterable argument.\n",
        "The iterable argument can be a list, tuple, or any other iterable object.\n",
        "\n",
        "Here is an example of how to use the map function:"
      ]
    },
    {
      "cell_type": "markdown",
      "metadata": {
        "id": "-8zwyfPrYEjo"
      },
      "source": [
        "**Calculate the length of each word in the tuple:**"
      ]
    },
    {
      "cell_type": "code",
      "execution_count": null,
      "metadata": {
        "id": "1meAq2j0YMMl",
        "colab": {
          "base_uri": "https://localhost:8080/"
        },
        "outputId": "349f23e3-4db0-4e56-89d6-09801d1463c4"
      },
      "outputs": [
        {
          "output_type": "stream",
          "name": "stdout",
          "text": [
            "<map object at 0x7f76adb9d240>\n",
            "[5, 6, 6]\n"
          ]
        }
      ],
      "source": [
        "def myfunc(a):\n",
        "  return len(a)\n",
        "\n",
        "x = map(myfunc, ('apple', 'banana', 'cherry'))\n",
        "\n",
        "print(x)\n",
        "\n",
        "#convert the map into a list, for readability:\n",
        "print(list(x))"
      ]
    },
    {
      "cell_type": "code",
      "execution_count": null,
      "metadata": {
        "colab": {
          "base_uri": "https://localhost:8080/"
        },
        "id": "Z8943NSmV-p5",
        "outputId": "12bfe957-b38b-48a9-c3b1-286bf0290cb0"
      },
      "outputs": [
        {
          "output_type": "stream",
          "name": "stdout",
          "text": [
            "[2, 4, 6, 8, 10]\n"
          ]
        }
      ],
      "source": [
        "# List of numbers\n",
        "numbers = [1, 2, 3, 4, 5]\n",
        "\n",
        "# Double each number using the map function\n",
        "doubled = map(lambda x: x * 2, numbers)\n",
        "\n",
        "# Print the doubled numbers\n",
        "print(list(doubled))"
      ]
    },
    {
      "cell_type": "markdown",
      "metadata": {
        "id": "XwvFVAyYV-p5"
      },
      "source": [
        "In the above example, the lambda function lambda x: x * 2 is used to double each element in the numbers list. The map function applies the lambda function to each element in the list and returns a new list containing the doubled numbers."
      ]
    },
    {
      "cell_type": "code",
      "execution_count": null,
      "metadata": {
        "id": "qW4cVR8sYY5Q",
        "colab": {
          "base_uri": "https://localhost:8080/"
        },
        "outputId": "0a804192-c96e-44ca-8041-95b93400a53b"
      },
      "outputs": [
        {
          "output_type": "stream",
          "name": "stdout",
          "text": [
            "['appleorange', 'bananalemon', 'cherrypineapple']\n"
          ]
        }
      ],
      "source": [
        "def myfunc(a, b):\n",
        "  return a + b\n",
        "\n",
        "x = map(myfunc, ('apple', 'banana', 'cherry'), ('orange', 'lemon', 'pineapple'))\n",
        "\n",
        "#convert the map into a list, for readability:\n",
        "print(list(x))"
      ]
    },
    {
      "cell_type": "markdown",
      "metadata": {
        "id": "Q_bmPkljYwjp"
      },
      "source": [
        "# **reduce() in Python**\n",
        "\n",
        "The reduce(fun,seq) function is used to apply a particular function passed in its argument to all of the list elements mentioned in the sequence passed along.This function is defined in “functools” module.\n",
        "\n",
        "Working :  \n",
        "\n",
        "\n",
        "1.   At first step, first two elements of sequence are picked and the result is obtained.\n",
        "2.   Next step is to apply the same function to the previously attained result and the number just succeeding the second element and the result is again stored.\n",
        "3.   This process continues till no more elements are left in the container.\n",
        "4.   The final returned result is returned and printed on console.\n",
        "\n",
        "\n",
        "\n"
      ]
    },
    {
      "cell_type": "code",
      "execution_count": null,
      "metadata": {
        "colab": {
          "base_uri": "https://localhost:8080/"
        },
        "id": "CvOkDXLMV-p6",
        "outputId": "aca15bd0-7f50-4ea4-92a2-55eeadf6f1f6"
      },
      "outputs": [
        {
          "output_type": "stream",
          "name": "stdout",
          "text": [
            "15\n"
          ]
        }
      ],
      "source": [
        "from functools import reduce\n",
        "\n",
        "# List of numbers\n",
        "numbers = [1, 2, 3, 4, 5]\n",
        "\n",
        "# Calculate the sum of the numbers using the reduce function\n",
        "sum = reduce(lambda x, y: x + y, numbers)\n",
        "\n",
        "# Print the sum\n",
        "print(sum)"
      ]
    },
    {
      "cell_type": "code",
      "execution_count": null,
      "metadata": {
        "id": "GHeZFyEsZeZQ",
        "colab": {
          "base_uri": "https://localhost:8080/"
        },
        "outputId": "5a1e4503-f2e5-43e8-e4ba-de84b2233eff"
      },
      "outputs": [
        {
          "output_type": "stream",
          "name": "stdout",
          "text": [
            "The sum of the list elements is : 17\n",
            "The maximum element of the list is : 6\n"
          ]
        }
      ],
      "source": [
        "# python code to demonstrate working of reduce()\n",
        "\n",
        "# importing functools for reduce()\n",
        "import functools\n",
        "#from functools import reduce\n",
        "# initializing list\n",
        "lis = [1, 3, 5, 6, 2]\n",
        "\n",
        "# using reduce to compute sum of list\n",
        "print(\"The sum of the list elements is : \", end=\"\")\n",
        "print(functools.reduce(lambda a, b: a+b, lis))\n",
        "\n",
        "# using reduce to compute maximum element from list\n",
        "print(\"The maximum element of the list is : \", end=\"\")\n",
        "print(functools.reduce(lambda a, b: a if a > b else b, lis))\n"
      ]
    },
    {
      "cell_type": "markdown",
      "metadata": {
        "id": "a0V50o8UV-p7"
      },
      "source": [
        "Questions for Practical Assignment Submission"
      ]
    },
    {
      "cell_type": "markdown",
      "metadata": {
        "id": "np3jW7H5V-p7"
      },
      "source": [
        "WA function to calculate arithmetic mean of variable number of values\n",
        "\n",
        "WA lambda function to find largest of 2 numbers\n",
        "\n",
        "Use lambda function to return a square value of a given number.\n",
        "\n",
        "Write a program using filter() to filter out even numbers from a list.\n",
        "\n",
        "Write a program using map() to filter out even numbers from a list.\n",
        "\n",
        "Write a program using reduce() with a lambda expression to find product of elements in a list."
      ]
    },
    {
      "cell_type": "markdown",
      "metadata": {
        "id": "oZSzfnTUV-p7"
      },
      "source": [
        "Questions for Write-up\n",
        "\n",
        "1. Describe how lambda functions differ from regular functions in terms of syntax.\n",
        "2. Need for Lamda and higher order functions\n",
        "3. What is the purpose of Python's map function?\n",
        "4. How is the reduce function different from map and filter?"
      ]
    }
  ],
  "metadata": {
    "colab": {
      "provenance": []
    },
    "kernelspec": {
      "display_name": "Python 3",
      "name": "python3"
    },
    "language_info": {
      "name": "python"
    }
  },
  "nbformat": 4,
  "nbformat_minor": 0
}