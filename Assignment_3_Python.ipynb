{
  "nbformat": 4,
  "nbformat_minor": 0,
  "metadata": {
    "colab": {
      "provenance": []
    },
    "kernelspec": {
      "name": "python3",
      "display_name": "Python 3"
    },
    "language_info": {
      "name": "python"
    }
  },
  "cells": [
    {
      "cell_type": "code",
      "execution_count": null,
      "metadata": {
        "colab": {
          "base_uri": "https://localhost:8080/"
        },
        "id": "wGil62VJnSnP",
        "outputId": "c2cdbd63-abbd-4313-d782-916c7deaeafa"
      },
      "outputs": [
        {
          "output_type": "stream",
          "name": "stdout",
          "text": [
            "You have just become an adult\n"
          ]
        }
      ],
      "source": [
        "# Short hand if-else statement / Ternary operator\n",
        "age = 18\n",
        "print(\"You're a child\") if age <18 else print(\"You're an adult\") if age > 18 else print(\"You have just become an adult\")"
      ]
    },
    {
      "cell_type": "markdown",
      "source": [
        "In Python, the zip() function is a powerful tool that allows you to combine two or more iterables into a single iterable. It simplifies working with multiple iterables."
      ],
      "metadata": {
        "id": "9Z4F0WKSyAO6"
      }
    },
    {
      "cell_type": "code",
      "source": [
        "# Using python zip() function\n",
        "\n",
        "list1 = ['Suraj','Mayank','Raghav']\n",
        "list2 = ['intelligent','strong','smart']\n",
        "comb_list= zip(list1,list2)\n",
        "print(comb_list)\n",
        "# By default it only returns an object, we'll need to typecast it into list/tuple\n",
        "\n",
        "zipped_list = list(zip(list1,list2))\n",
        "print(zipped_list)\n",
        "\n",
        "print(\"\\n\")\n",
        "# Using iterator with zip()\n",
        "for name, quality in zip(list1,list2):\n",
        "  print(name,'is',quality)"
      ],
      "metadata": {
        "colab": {
          "base_uri": "https://localhost:8080/"
        },
        "id": "2tIRAfQSsA6l",
        "outputId": "7cb032b3-e414-4366-a907-15000db313fc"
      },
      "execution_count": null,
      "outputs": [
        {
          "output_type": "stream",
          "name": "stdout",
          "text": [
            "<zip object at 0x7f365d409080>\n",
            "[('Suraj', 'intelligent'), ('Mayank', 'strong'), ('Raghav', 'smart')]\n",
            "\n",
            "\n",
            "Suraj is intelligent\n",
            "Mayank is strong\n",
            "Raghav is smart\n"
          ]
        }
      ]
    },
    {
      "cell_type": "markdown",
      "source": [
        "In Python, a docstring is a string literal that occurs as the first statement in a **module, function, class, or method definition**. It's used to document what the module, function, class, or method does, its parameters (if applicable), its return value (if applicable), and any other relevant information.Using docstrings is considered good practice in Python as it helps improve code readability and maintainability. Additionally, **tools like Sphinx** can automatically generate documentation from docstrings. Docstrings are enclosed in **triple quotes** (either single or double)\n",
        "\n",
        "Sphinx documentation: https://www.sphinx-doc.org/en/master/"
      ],
      "metadata": {
        "id": "PpXj6uhqKWie"
      }
    },
    {
      "cell_type": "code",
      "source": [
        "# Content in triple quotes is a \"\"\"DOCSTRING\"\"\"\n",
        "def add_nums (num1: int, num2: int) -> int:\n",
        "  \"\"\"This function adds two numbers\n",
        "     Parameters:\n",
        "     num1 (integer) and num2 (integer)\n",
        "     Returns:\n",
        "     result (integer)\n",
        "     \"\"\"\n",
        "  result = num1 + num2\n",
        "  return result\n",
        "\n",
        "add_nums(5,18)\n",
        "\n"
      ],
      "metadata": {
        "colab": {
          "base_uri": "https://localhost:8080/"
        },
        "id": "ulJa5ni0xXee",
        "outputId": "d7a6b9b3-8ba7-4492-e0c5-0f97ac487e70"
      },
      "execution_count": null,
      "outputs": [
        {
          "output_type": "execute_result",
          "data": {
            "text/plain": [
              "23"
            ]
          },
          "metadata": {},
          "execution_count": 15
        }
      ]
    },
    {
      "cell_type": "code",
      "source": [
        "def func():\n",
        "  print(\"Function can be assigned to a variable\")\n",
        "\n",
        "myfunc = func\n",
        "myfunc()"
      ],
      "metadata": {
        "colab": {
          "base_uri": "https://localhost:8080/"
        },
        "id": "YF6Oa4UmPuaV",
        "outputId": "2ab45a95-5344-4dfd-f811-9b1028a0e56a"
      },
      "execution_count": null,
      "outputs": [
        {
          "output_type": "stream",
          "name": "stdout",
          "text": [
            "Function can be assigned to a variable\n"
          ]
        }
      ]
    },
    {
      "cell_type": "markdown",
      "source": [
        "***Question A.1***"
      ],
      "metadata": {
        "id": "d6Z-qO-HXdbC"
      }
    },
    {
      "cell_type": "code",
      "source": [
        "print(\"Enter the values for x1,x2,y1,y2:\")\n",
        "x1 = float(input(\"Enter x1: \"))\n",
        "x2 = float(input(\"Enter x2: \"))\n",
        "y1 = float(input(\"Enter y1: \"))\n",
        "y2 = float(input(\"Enter y2: \"))\n",
        "\n",
        "try:\n",
        "  slope = (y2-y1)/(x2-x1)\n",
        "  if slope >0:\n",
        "    print(\"positive slope\")\n",
        "  elif slope < 0:\n",
        "    print(\"negative slope\")\n",
        "  elif x2-x1 == 0:\n",
        "    print(\"vertical line\")\n",
        "  else:\n",
        "    print(\"Incorrect input\")\n",
        "\n",
        "except ZeroDivisionError:\n",
        "  print(\"horizontal line\")\n",
        "else:\n",
        "  print(\"The value of slope =\",slope)\n",
        "# else block here always execute regardless of the order"
      ],
      "metadata": {
        "colab": {
          "base_uri": "https://localhost:8080/"
        },
        "id": "os3IsZU5RpfC",
        "outputId": "3c75498d-1af1-4f27-c8fd-f04ceba595c0"
      },
      "execution_count": null,
      "outputs": [
        {
          "output_type": "stream",
          "name": "stdout",
          "text": [
            "Enter the values for x1,x2,y1,y2:\n",
            "Enter x1: 12\n",
            "Enter x2: 12\n",
            "Enter y1: 2\n",
            "Enter y2: 1\n",
            "horizontal line\n"
          ]
        }
      ]
    },
    {
      "cell_type": "markdown",
      "source": [
        "***Question A.2***"
      ],
      "metadata": {
        "id": "tu30Q5wqdBX2"
      }
    },
    {
      "cell_type": "code",
      "source": [
        "#F=(9/5)*C+32\n",
        "from prettytable import PrettyTable\n",
        "temp_table = PrettyTable(['Celsius(T℃)','Fahrenheit(T℉)'])\n",
        "i = 20\n",
        "while(i>9):\n",
        "  C = i\n",
        "  F=(9/5)*C+32\n",
        "  #print(f\"Celsius Temp= {C} || Fahrenheit Temp= {F}\")\n",
        "  temp_table.add_row([C,F])\n",
        "  i -= 1\n",
        "\n",
        "print(temp_table)\n",
        "\n",
        "# Above, prettytable was just imported to have a table like look!"
      ],
      "metadata": {
        "colab": {
          "base_uri": "https://localhost:8080/"
        },
        "id": "Tt8rouWBXyIW",
        "outputId": "3bed0459-e3a7-443a-b50c-a308057cbc0b"
      },
      "execution_count": null,
      "outputs": [
        {
          "output_type": "stream",
          "name": "stdout",
          "text": [
            "+-------------+--------------------+\n",
            "| Celsius(T℃) |   Fahrenheit(T℉)   |\n",
            "+-------------+--------------------+\n",
            "|      20     |        68.0        |\n",
            "|      19     |        66.2        |\n",
            "|      18     |        64.4        |\n",
            "|      17     |        62.6        |\n",
            "|      16     |        60.8        |\n",
            "|      15     |        59.0        |\n",
            "|      14     |        57.2        |\n",
            "|      13     | 55.400000000000006 |\n",
            "|      12     |        53.6        |\n",
            "|      11     |        51.8        |\n",
            "|      10     |        50.0        |\n",
            "+-------------+--------------------+\n"
          ]
        }
      ]
    },
    {
      "cell_type": "markdown",
      "source": [
        "***Question A.3***"
      ],
      "metadata": {
        "id": "4why22D-anaU"
      }
    },
    {
      "cell_type": "code",
      "source": [
        "int_list = [12,45,32,78,45,45,99,32,45,12]\n",
        "\n",
        "mydict = {}\n",
        "for item in int_list:\n",
        "  if item in mydict:\n",
        "    mydict[item] += 1\n",
        "  else:\n",
        "    mydict[item] = 1\n",
        "\n",
        "print(mydict)\n",
        "\n",
        "# Now, to get the output in key-value pair, that too in list format, we use list comprehension\n",
        "mydict_list = [(key,value) for key,value in mydict.items()]\n",
        "print(mydict_list)\n",
        "\n",
        "# Now, we've to sort the list according to the value in ascending, so we'll use\n",
        "# sorted() along with lambda func\n",
        "\n",
        "mydict_list2 = sorted([(key,value) for key,value in mydict.items()], key = lambda temp : temp[1])\n",
        "print(mydict_list2)\n",
        "\n",
        "\n",
        "# We did this, coz without key parameter, Python by default 'key' se sort karega,\n",
        "# par hume toh 'value' se sort karwana hai, customize karna hai, isliye key param lagega\n",
        "mydict_list3 = sorted([(key,value) for key,value in mydict.items()], key=None)\n",
        "print(mydict_list3)   # yahan key se sort hoga"
      ],
      "metadata": {
        "id": "LU_0XWJVdqLn",
        "colab": {
          "base_uri": "https://localhost:8080/"
        },
        "outputId": "32cd226a-db37-4cb5-fbc3-c8aa18cc3c62"
      },
      "execution_count": null,
      "outputs": [
        {
          "output_type": "stream",
          "name": "stdout",
          "text": [
            "{12: 2, 45: 4, 32: 2, 78: 1, 99: 1}\n",
            "[(12, 2), (45, 4), (32, 2), (78, 1), (99, 1)]\n",
            "[(78, 1), (99, 1), (12, 2), (32, 2), (45, 4)]\n",
            "[(12, 2), (32, 2), (45, 4), (78, 1), (99, 1)]\n"
          ]
        }
      ]
    },
    {
      "cell_type": "markdown",
      "source": [
        "In the above code, we used the key parmeter along with lambda function (which was returning the second element from the tuple in items i.e. returning value from (key,value). When you use the key parameter in functions like sorted(), Python **lets you tell it how to sort the elements**. You provide a function (the key function) that tells Python what to look at when deciding the order.This comparison key is then used to determine the order of the elements during sorting."
      ],
      "metadata": {
        "id": "F8ZNANsPvW8u"
      }
    },
    {
      "cell_type": "markdown",
      "source": [
        "***Question B.1***"
      ],
      "metadata": {
        "id": "N-WaeHRIm_K6"
      }
    },
    {
      "cell_type": "code",
      "source": [
        "def prime_checker(num):\n",
        "  is_prime = True\n",
        "  for i in range(2, int(num**0.5) + 1):\n",
        "    if num % i == 0:\n",
        "      is_prime = False\n",
        "    else:\n",
        "      return is_prime\n",
        "\n",
        "print(prime_checker(34))\n",
        "print(prime_checker(22))\n",
        "prime_checker(11)\n"
      ],
      "metadata": {
        "id": "nDRiCqb1om8Z",
        "colab": {
          "base_uri": "https://localhost:8080/"
        },
        "outputId": "8a391ebc-c8e1-48e2-c886-096ad7734681"
      },
      "execution_count": null,
      "outputs": [
        {
          "output_type": "stream",
          "name": "stdout",
          "text": [
            "False\n",
            "False\n"
          ]
        },
        {
          "output_type": "execute_result",
          "data": {
            "text/plain": [
              "True"
            ]
          },
          "metadata": {},
          "execution_count": 4
        }
      ]
    },
    {
      "cell_type": "markdown",
      "source": [
        "***Question B.2.(a)***"
      ],
      "metadata": {
        "id": "NLq6zE5Ipftc"
      }
    },
    {
      "cell_type": "code",
      "source": [
        "def fact_no_recursion(num):\n",
        "  fact=1\n",
        "  for i in range(num, 0, -1):\n",
        "    fact = fact*i\n",
        "  return fact\n",
        "\n",
        "fact_no_recursion(3)"
      ],
      "metadata": {
        "colab": {
          "base_uri": "https://localhost:8080/"
        },
        "id": "3ob8k4ZApmN9",
        "outputId": "6a1383b3-d603-44ea-bb83-a85ed6e22fac"
      },
      "execution_count": null,
      "outputs": [
        {
          "output_type": "execute_result",
          "data": {
            "text/plain": [
              "6"
            ]
          },
          "metadata": {},
          "execution_count": 2
        }
      ]
    },
    {
      "cell_type": "markdown",
      "source": [
        "***Question B.2.(b)***"
      ],
      "metadata": {
        "id": "F72oFT6EAmtj"
      }
    },
    {
      "cell_type": "code",
      "source": [
        "def fact_with_recursion(num):\n",
        "  fact=1\n",
        "  if num>0:\n",
        "    fact = num * fact_with_recursion(num-1)\n",
        "  return fact\n",
        "\n",
        "fact_with_recursion(5)"
      ],
      "metadata": {
        "colab": {
          "base_uri": "https://localhost:8080/"
        },
        "id": "sZuZ2lGzA-MR",
        "outputId": "ba5779a6-7f9a-4215-f808-8fda247daeb9"
      },
      "execution_count": null,
      "outputs": [
        {
          "output_type": "execute_result",
          "data": {
            "text/plain": [
              "120"
            ]
          },
          "metadata": {},
          "execution_count": 19
        }
      ]
    }
  ]
}