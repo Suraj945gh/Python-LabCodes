{
  "cells": [
    {
      "cell_type": "code",
      "execution_count": 6,
      "id": "97fb6f4a",
      "metadata": {
        "colab": {
          "base_uri": "https://localhost:8080/"
        },
        "id": "97fb6f4a",
        "outputId": "b3b9fc1f-e666-437c-95b5-9ffac4b1e1f2"
      },
      "outputs": [
        {
          "output_type": "stream",
          "name": "stdout",
          "text": [
            "Sum=  15\n",
            "4\n",
            "<class 'str'> <class 'float'> <class 'str'>\n",
            "10 0 0\n"
          ]
        }
      ],
      "source": [
        "a = 11\n",
        "b = 4\n",
        "c = a+b\n",
        "print(\"Sum= \",c)\n",
        "print (4)\n",
        "# type gives the datatype of the value\n",
        "a1 = type(\"Hello bro\")\n",
        "a2 = type(4.5)\n",
        "a3 = type(\"43\")\n",
        "print(a1,a2,a3)"
      ]
    },
    {
      "cell_type": "code",
      "execution_count": 34,
      "id": "171fd25a",
      "metadata": {
        "colab": {
          "base_uri": "https://localhost:8080/"
        },
        "id": "171fd25a",
        "outputId": "a117e5c0-a664-4494-e6a8-2e6fc4da23b0"
      },
      "outputs": [
        {
          "output_type": "stream",
          "name": "stdout",
          "text": [
            "Hello World!\n",
            "G F G\n",
            "GFG\n",
            "19/11/2024\n"
          ]
        }
      ],
      "source": [
        "print(\"Hello World!\")\n",
        "print('G','F','G')\n",
        "print('G','F','G', sep='') # seperator parameter is space by default(softspace feature)\n",
        "print(19,11,2024,sep='/')"
      ]
    },
    {
      "cell_type": "code",
      "execution_count": 8,
      "id": "18177079",
      "metadata": {
        "colab": {
          "base_uri": "https://localhost:8080/"
        },
        "id": "18177079",
        "outputId": "d733f671-8501-47ce-9ffe-fc8f7912ff00"
      },
      "outputs": [
        {
          "output_type": "stream",
          "name": "stdout",
          "text": [
            "7\n",
            "44\n",
            "2.75\n",
            "2\n",
            "14641\n",
            "8\n",
            "5.0\n"
          ]
        }
      ],
      "source": [
        "print(a-b)\n",
        "print(a*b)\n",
        "print(a/b)\n",
        "print(a//b) # Operator // means floor division\n",
        "print(a**b) # Operator ** means Exponentiation in python\n",
        "print(2**3)\n",
        "print(25**0.5)"
      ]
    },
    {
      "cell_type": "markdown",
      "source": [
        "Order of operations can be remembered as:  \n",
        "**PEMDAS** ( Parantheses > Exponentiation > Mutiplication = Division > Addition = Subtraction )"
      ],
      "metadata": {
        "id": "SqEo719bibSz"
      },
      "id": "SqEo719bibSz"
    },
    {
      "cell_type": "code",
      "execution_count": null,
      "id": "6daa876a",
      "metadata": {
        "id": "6daa876a",
        "outputId": "3ca53dde-dbaa-4aa1-8850-cdcb80c3b7b7"
      },
      "outputs": [
        {
          "name": "stdout",
          "output_type": "stream",
          "text": [
            "Enter the first no.12\n",
            "Enter the second no.2\n",
            "Sum is 14\n"
          ]
        }
      ],
      "source": [
        "# raw_input() was used in python 2 and it was replaced by input() in python 3\n",
        "a = int(input(\"Enter the first no.\"))\n",
        "b= int(input('Enter the second no.'))\n",
        "sum = a+ b\n",
        "print(\"Sum is\",sum)"
      ]
    },
    {
      "cell_type": "markdown",
      "source": [
        "String concatenation is performed using '+' and '*' also :"
      ],
      "metadata": {
        "id": "9ZkFGRMqj08k"
      },
      "id": "9ZkFGRMqj08k"
    },
    {
      "cell_type": "code",
      "source": [
        "str = 'CrazyAI'\n",
        "print(str + ' is taking over')\n",
        "print(str*3) # interpretor understands it as str+str+str"
      ],
      "metadata": {
        "colab": {
          "base_uri": "https://localhost:8080/"
        },
        "id": "rCnq27RQkZkp",
        "outputId": "68c576b2-7bc8-406c-a9b4-76a2dcbe5e8e"
      },
      "id": "rCnq27RQkZkp",
      "execution_count": 9,
      "outputs": [
        {
          "output_type": "stream",
          "name": "stdout",
          "text": [
            "CrazyAI is taking over\n",
            "CrazyAICrazyAICrazyAI\n"
          ]
        }
      ]
    },
    {
      "cell_type": "code",
      "execution_count": null,
      "id": "a4fa3c7c",
      "metadata": {
        "id": "a4fa3c7c",
        "outputId": "de2797d7-544e-4631-9b3f-996cb0339061"
      },
      "outputs": [
        {
          "name": "stdout",
          "output_type": "stream",
          "text": [
            "K\n",
            "Kus\n"
          ]
        }
      ],
      "source": [
        "mystr = \"Kush is a fool\"\n",
        "print(mystr[0])\n",
        "print(mystr[0:3])"
      ]
    },
    {
      "cell_type": "code",
      "execution_count": null,
      "id": "31fd03ac",
      "metadata": {
        "id": "31fd03ac",
        "outputId": "34662699-c1e6-4fb9-a665-3ea19ac9bb04"
      },
      "outputs": [
        {
          "name": "stdout",
          "output_type": "stream",
          "text": [
            "blah\n",
            "2289017739824\n",
            "llah\n",
            "2289017763696\n"
          ]
        }
      ],
      "source": [
        "a = \"blah\"\n",
        "print(a)\n",
        "print(id(a))\n",
        "a = \"llah\"\n",
        "print(a)\n",
        "print(id(a))"
      ]
    },
    {
      "cell_type": "code",
      "execution_count": null,
      "id": "16ca4c10",
      "metadata": {
        "id": "16ca4c10",
        "outputId": "a4828beb-a15e-4204-826c-5d96cd899ddc"
      },
      "outputs": [
        {
          "name": "stdout",
          "output_type": "stream",
          "text": [
            "2289017763312\n",
            "2289017778864\n",
            "Id of a is  2289017778864\n",
            "Id of b is  2289017778864\n"
          ]
        }
      ],
      "source": [
        "a = \"Suraj\"\n",
        "print(id(a))\n",
        "b = \"DSA\"\n",
        "print(id(b))\n",
        "a = b\n",
        "print(\"Id of a is \",id(a))\n",
        "print(\"Id of b is \",id(b))"
      ]
    },
    {
      "cell_type": "code",
      "execution_count": null,
      "id": "7ba7f5c4",
      "metadata": {
        "id": "7ba7f5c4",
        "outputId": "7f748fb3-39f9-464a-e7d2-42962238350a"
      },
      "outputs": [
        {
          "name": "stdout",
          "output_type": "stream",
          "text": [
            "2289017801216\n",
            "2289017824576\n",
            "['IT']\n",
            "['Comps']\n"
          ]
        }
      ],
      "source": [
        "# Making a list now\n",
        "c = ['Suraj']\n",
        "print(id(c))\n",
        "d = ['IT']\n",
        "print(id(d))\n",
        "c=d\n",
        "print(c)\n",
        "d[0] = \"Comps\"\n",
        "print(c)\n",
        "# list is a mutable datatype, since see the values has been changed"
      ]
    },
    {
      "cell_type": "markdown",
      "source": [
        "***String Manipulation:***"
      ],
      "metadata": {
        "id": "78z7014IladN"
      },
      "id": "78z7014IladN"
    },
    {
      "cell_type": "code",
      "source": [
        "teststr = \"Hello Antariksh, here's my Rover.\"\n",
        "print(teststr.casefold())  # lowercase\n",
        "print(\"er is repeated:\", teststr.count('er'),'times')   # Syntax: string.count(value, start, end)\n",
        "print(teststr.find('r'))\n",
        "#print(teststr.center())"
      ],
      "metadata": {
        "colab": {
          "base_uri": "https://localhost:8080/"
        },
        "id": "lDYyogYRlYI5",
        "outputId": "19d3230e-b4b8-4671-fc24-dad388680962"
      },
      "id": "lDYyogYRlYI5",
      "execution_count": 29,
      "outputs": [
        {
          "output_type": "stream",
          "name": "stdout",
          "text": [
            "hello antariksh, here's my rover.\n",
            "er is repeated: 2 times\n",
            "10\n"
          ]
        }
      ]
    },
    {
      "cell_type": "markdown",
      "source": [
        "***center()*** method total given length mai se str ko center karwata hai and baki places ko char se fill karta hai.\n",
        "\n",
        "Syntax: ***center(length, character)***"
      ],
      "metadata": {
        "id": "8AUamYc2nzrb"
      },
      "id": "8AUamYc2nzrb"
    },
    {
      "cell_type": "code",
      "source": [
        "fruit = 'banana'\n",
        "x = fruit.center(10,\"~\")\n",
        "print(x)"
      ],
      "metadata": {
        "colab": {
          "base_uri": "https://localhost:8080/"
        },
        "id": "jALvHkuLnxLh",
        "outputId": "de9e0502-02a8-449a-e0bd-b21854f5da0d"
      },
      "id": "jALvHkuLnxLh",
      "execution_count": 16,
      "outputs": [
        {
          "output_type": "stream",
          "name": "stdout",
          "text": [
            "~~banana~~\n"
          ]
        }
      ]
    },
    {
      "cell_type": "markdown",
      "source": [
        "***encode()*** method basically is used to encode str, if nothing is mentioned, by default UTF-8 is used, errors can be explicitly mentioned if you want!\n",
        "\n",
        "Syntax: ***string.encode( encoding=encoding, errors=errors)***"
      ],
      "metadata": {
        "id": "sKvmKGaGpq5Z"
      },
      "id": "sKvmKGaGpq5Z"
    },
    {
      "cell_type": "code",
      "source": [
        "just_str = \"Keviṇ\"\n",
        "print(just_str.encode())\n",
        "print(just_str.encode(encoding=\"ascii\",errors='backslashreplace'))\n",
        "print(just_str.encode(encoding=\"ascii\",errors='namereplace'))"
      ],
      "metadata": {
        "colab": {
          "base_uri": "https://localhost:8080/"
        },
        "id": "jwd2fN0hqlTQ",
        "outputId": "2d79253d-1483-4f3a-aaab-5bbe9ca8a173"
      },
      "id": "jwd2fN0hqlTQ",
      "execution_count": 20,
      "outputs": [
        {
          "output_type": "stream",
          "name": "stdout",
          "text": [
            "b'Kevi\\xe1\\xb9\\x87'\n",
            "b'Kevi\\\\u1e47'\n",
            "b'Kevi\\\\N{LATIN SMALL LETTER N WITH DOT BELOW}'\n"
          ]
        }
      ]
    },
    {
      "cell_type": "markdown",
      "id": "46aabf79",
      "metadata": {
        "id": "46aabf79"
      },
      "source": [
        "***Question 1***"
      ]
    },
    {
      "cell_type": "code",
      "execution_count": 1,
      "id": "b74994c8",
      "metadata": {
        "colab": {
          "base_uri": "https://localhost:8080/"
        },
        "id": "b74994c8",
        "outputId": "cb964c00-c109-4555-bf54-dbdcb3386dfd"
      },
      "outputs": [
        {
          "output_type": "stream",
          "name": "stdout",
          "text": [
            "Enter your first name: Suraj\n",
            "Enter your last name: Rajpurohit\n",
            "Your fullname is Suraj Rajpurohit\n"
          ]
        }
      ],
      "source": [
        "# Question 1\n",
        "# Take input using the input function\n",
        "fname = input(\"Enter your first name: \")\n",
        "lname = input(\"Enter your last name: \")\n",
        "# Concatenate using + operator\n",
        "fullname = fname + ' ' + lname\n",
        "print(\"Your fullname is\",fullname)"
      ]
    },
    {
      "cell_type": "markdown",
      "source": [
        "***Question 2***"
      ],
      "metadata": {
        "id": "OeJYb85cd0te"
      },
      "id": "OeJYb85cd0te"
    },
    {
      "cell_type": "code",
      "execution_count": null,
      "id": "65a66151",
      "metadata": {
        "id": "65a66151",
        "outputId": "0687a8d2-a8d5-4920-cdba-b91dbdbfcd5b"
      },
      "outputs": [
        {
          "name": "stdout",
          "output_type": "stream",
          "text": [
            "The solution of expression is:  23.231625\n"
          ]
        }
      ],
      "source": [
        "# Question 2\n",
        "x = 2.55\n",
        "exp = 3*x**3 - 5*x**2 + 6\n",
        "print(\"The solution of expression is: \",exp)"
      ]
    },
    {
      "cell_type": "markdown",
      "source": [
        "***Question 3***"
      ],
      "metadata": {
        "id": "IdSSohB4d6y7"
      },
      "id": "IdSSohB4d6y7"
    },
    {
      "cell_type": "code",
      "execution_count": 2,
      "id": "f69afab9",
      "metadata": {
        "colab": {
          "base_uri": "https://localhost:8080/"
        },
        "id": "f69afab9",
        "outputId": "0cf6bcf0-115e-4340-8817-522660a6b2f0"
      },
      "outputs": [
        {
          "output_type": "stream",
          "name": "stdout",
          "text": [
            "Enter the string: Raghava\n",
            "The middle 3 chars are:  gha\n"
          ]
        }
      ],
      "source": [
        "# Question 3\n",
        "str = input(\"Enter the string: \")\n",
        "middle_char = len(str)//2\n",
        "\n",
        "print(\"The middle 3 chars are: \", str[middle_char-1:middle_char+2])"
      ]
    },
    {
      "cell_type": "markdown",
      "source": [
        "***Question 4***"
      ],
      "metadata": {
        "id": "a66GT_B5d9cr"
      },
      "id": "a66GT_B5d9cr"
    },
    {
      "cell_type": "code",
      "execution_count": 5,
      "id": "2887f81d",
      "metadata": {
        "colab": {
          "base_uri": "https://localhost:8080/"
        },
        "id": "2887f81d",
        "outputId": "f398c2ec-338e-4e33-f7d8-fd0ca5e9d592"
      },
      "outputs": [
        {
          "output_type": "stream",
          "name": "stdout",
          "text": [
            "['P', 'y', 'T', 'H', 'o', 'n']\n",
            "['y', 'o', 'n', 'T', 'P', 'H']\n",
            "Final string is  yonTPH\n",
            "yonTPH\n"
          ]
        }
      ],
      "source": [
        "# Question 4\n",
        "str1 = \"PyTHon\"\n",
        "mylist = list(str1)  # Converted string to a list\n",
        "\n",
        "print(mylist)\n",
        "mylist = sorted(mylist,reverse=True)  # Sorted the list\n",
        "print(mylist)\n",
        "\n",
        "# Methods to convert a list to a string\n",
        "\n",
        "# Method 1: String Comprehension\n",
        "finalstr = \"\".join(mylist)\n",
        "print(\"Final string is \",finalstr)\n",
        "\n",
        "# Method 2: format() method\n",
        "result = \"{}{}{}{}{}{}\".format(*mylist)\n",
        "print(result)"
      ]
    },
    {
      "cell_type": "markdown",
      "source": [
        "***Question 5***"
      ],
      "metadata": {
        "id": "ZP1roIOPd_pt"
      },
      "id": "ZP1roIOPd_pt"
    },
    {
      "cell_type": "code",
      "execution_count": null,
      "id": "99e0f7e9",
      "metadata": {
        "id": "99e0f7e9",
        "outputId": "285c1fbd-9235-4a9c-9f2f-76dc330a7881"
      },
      "outputs": [
        {
          "name": "stdout",
          "output_type": "stream",
          "text": [
            "Enter the string: dfs253#^$\n",
            "No. of letters:  3\n",
            "No. of digits:  3\n",
            "No. of special symbols:  3\n"
          ]
        }
      ],
      "source": [
        "# Question 5\n",
        "newstr = input(\"Enter the string: \")\n",
        "letter=digit=sp=0\n",
        "for x in newstr:\n",
        "    if (x.isalpha()):\n",
        "        letter= letter+1\n",
        "    elif(x.isdigit()):\n",
        "        digit= digit +1\n",
        "    else:\n",
        "        sp= sp +1\n",
        "\n",
        "print(\"No. of letters: \",letter)\n",
        "print(\"No. of digits: \",digit)\n",
        "print(\"No. of special symbols: \",sp)"
      ]
    },
    {
      "cell_type": "markdown",
      "source": [
        "***Question 6***"
      ],
      "metadata": {
        "id": "6HaRt4teeChl"
      },
      "id": "6HaRt4teeChl"
    },
    {
      "cell_type": "code",
      "execution_count": 6,
      "id": "ddef816e",
      "metadata": {
        "colab": {
          "base_uri": "https://localhost:8080/"
        },
        "id": "ddef816e",
        "outputId": "39d501ae-611d-4a59-c9c5-6f5a2d62832e"
      },
      "outputs": [
        {
          "output_type": "stream",
          "name": "stdout",
          "text": [
            "Enter the string: Raghava\n",
            "{}\n",
            "Count of each character:  {'R': 1, 'a': 3, 'g': 1, 'h': 1, 'v': 1}\n"
          ]
        }
      ],
      "source": [
        "# Question 6\n",
        "str2 = input(\"Enter the string: \")\n",
        "\n",
        "char_count = {}\n",
        "print(char_count)\n",
        "for i in str2:\n",
        "    if i in char_count:\n",
        "        char_count[i] += 1\n",
        "    else:\n",
        "        char_count[i] = 1\n",
        "\n",
        "print(\"Count of each character: \",char_count)"
      ]
    },
    {
      "cell_type": "markdown",
      "source": [
        "***Question 7***"
      ],
      "metadata": {
        "id": "WIq1OcWlTKpj"
      },
      "id": "WIq1OcWlTKpj"
    },
    {
      "cell_type": "code",
      "execution_count": 10,
      "id": "ffbadbaa",
      "metadata": {
        "colab": {
          "base_uri": "https://localhost:8080/"
        },
        "id": "ffbadbaa",
        "outputId": "bea476f8-0680-4444-f742-2ad2a56e3f3e"
      },
      "outputs": [
        {
          "output_type": "stream",
          "name": "stdout",
          "text": [
            "Last occurence of Rama is:  30\n"
          ]
        }
      ],
      "source": [
        "new_str = \"Lord Rama was a great archer. Rama was also Maryada Purushottam.\"\n",
        "index = new_str.rfind('Rama')   # rindex() and rfind() methods give last index of a substring in a string\n",
        "print(\"Last occurence of Rama is: \",index)"
      ]
    },
    {
      "cell_type": "markdown",
      "source": [
        "***Question 8***"
      ],
      "metadata": {
        "id": "mt9NkF3qVurz"
      },
      "id": "mt9NkF3qVurz"
    },
    {
      "cell_type": "code",
      "source": [
        "input_str = input(\"Enter a string: \")\n",
        "result_str = \"\"\n",
        "for item in input_str:\n",
        "  if not item.isdigit():\n",
        "    continue\n",
        "  elif item.isdigit():\n",
        "    result_str += item\n",
        "\n",
        "print(\"After removing all chars: \",result_str)"
      ],
      "metadata": {
        "colab": {
          "base_uri": "https://localhost:8080/"
        },
        "id": "Denma2cQVw5K",
        "outputId": "519baa00-607b-45e4-c252-4d1eec33e7a3"
      },
      "id": "Denma2cQVw5K",
      "execution_count": 15,
      "outputs": [
        {
          "output_type": "stream",
          "name": "stdout",
          "text": [
            "Enter a string: Ka678@#an11(^\n",
            "After removing all chars:  67811\n"
          ]
        }
      ]
    },
    {
      "cell_type": "markdown",
      "source": [
        "***Question 9***"
      ],
      "metadata": {
        "id": "TINKEIO4YCK7"
      },
      "id": "TINKEIO4YCK7"
    },
    {
      "cell_type": "code",
      "source": [
        "str5 = input(\"Enter the string: \")\n",
        "result2 = \"\"\n",
        "for item in str5:\n",
        "  if item.isalpha() or item.isdigit():\n",
        "    continue\n",
        "  elif item == ' ':\n",
        "    continue\n",
        "  else:\n",
        "    str5 = str5.replace(item,'#')\n",
        "\n",
        "print(\"Final String: \",str5)"
      ],
      "metadata": {
        "colab": {
          "base_uri": "https://localhost:8080/"
        },
        "id": "y6yq4fY7YEI-",
        "outputId": "bb11309e-ff6e-4293-a423-8fd3cde4d0c8"
      },
      "id": "y6yq4fY7YEI-",
      "execution_count": 30,
      "outputs": [
        {
          "output_type": "stream",
          "name": "stdout",
          "text": [
            "Enter the string: Mary @always &stood first in %class\n",
            "Final String:  Mary #always #stood first in #class\n"
          ]
        }
      ]
    },
    {
      "cell_type": "markdown",
      "source": [
        "***Question 10***"
      ],
      "metadata": {
        "id": "BujfwoRParz_"
      },
      "id": "BujfwoRParz_"
    },
    {
      "cell_type": "code",
      "source": [
        "str6 = input(\"Enter the string: \")\n",
        "new_str6 = str6.replace(' ','-')\n",
        "print(new_str6)"
      ],
      "metadata": {
        "colab": {
          "base_uri": "https://localhost:8080/"
        },
        "id": "fiJaJ1lcauw_",
        "outputId": "1c7740fb-1252-418a-8679-cbcee6945c5e"
      },
      "id": "fiJaJ1lcauw_",
      "execution_count": 22,
      "outputs": [
        {
          "output_type": "stream",
          "name": "stdout",
          "text": [
            "Enter the string: He is good\n",
            "He-is-good\n"
          ]
        }
      ]
    }
  ],
  "metadata": {
    "kernelspec": {
      "display_name": "Python 3",
      "language": "python",
      "name": "python3"
    },
    "language_info": {
      "codemirror_mode": {
        "name": "ipython",
        "version": 3
      },
      "file_extension": ".py",
      "mimetype": "text/x-python",
      "name": "python",
      "nbconvert_exporter": "python",
      "pygments_lexer": "ipython3",
      "version": "3.8.8"
    },
    "colab": {
      "provenance": []
    }
  },
  "nbformat": 4,
  "nbformat_minor": 5
}