{
  "nbformat": 4,
  "nbformat_minor": 0,
  "metadata": {
    "colab": {
      "provenance": [],
      "authorship_tag": "ABX9TyNSTxz/rxVZ7IASdZUMw/Bm",
      "include_colab_link": true
    },
    "kernelspec": {
      "name": "python3",
      "display_name": "Python 3"
    },
    "language_info": {
      "name": "python"
    }
  },
  "cells": [
    {
      "cell_type": "markdown",
      "metadata": {
        "id": "view-in-github",
        "colab_type": "text"
      },
      "source": [
        "<a href=\"https://colab.research.google.com/github/Suraj945gh/Python-LabCodes/blob/main/Assignment_2_Python.ipynb\" target=\"_parent\"><img src=\"https://colab.research.google.com/assets/colab-badge.svg\" alt=\"Open In Colab\"/></a>"
      ]
    },
    {
      "cell_type": "markdown",
      "source": [
        "***Question 1***"
      ],
      "metadata": {
        "id": "yKULyZzrSWq9"
      }
    },
    {
      "cell_type": "code",
      "execution_count": null,
      "metadata": {
        "colab": {
          "base_uri": "https://localhost:8080/"
        },
        "id": "mf-AUV8UOZY7",
        "outputId": "796e2624-99e8-40b7-e836-10dae41fb3a6"
      },
      "outputs": [
        {
          "output_type": "stream",
          "name": "stdout",
          "text": [
            "34\n"
          ]
        }
      ],
      "source": [
        "mylist = [12,34,'Suraj', True, 34.45,'Kush']\n",
        "\n",
        "import random\n",
        "print(random.choice(mylist))"
      ]
    },
    {
      "cell_type": "markdown",
      "source": [
        "**Question 2**"
      ],
      "metadata": {
        "id": "DawIlV0HSpp2"
      }
    },
    {
      "cell_type": "code",
      "source": [
        "list1 = [12,34,56,123,('Static','Dynamic'),False,78]  # a list containing tuple\n",
        "count = 0\n",
        "for item in list1:\n",
        "  if type(item) is tuple:\n",
        "    break\n",
        "  else:\n",
        "    count +=1\n",
        "\n",
        "print(\"The final count until tuple is encountered: \",count)"
      ],
      "metadata": {
        "colab": {
          "base_uri": "https://localhost:8080/"
        },
        "id": "X6BeCyhuUGQu",
        "outputId": "1543c7a6-11d6-46cb-e907-e748d144d523"
      },
      "execution_count": null,
      "outputs": [
        {
          "output_type": "stream",
          "name": "stdout",
          "text": [
            "The final count until tuple is encountered:  4\n"
          ]
        }
      ]
    },
    {
      "cell_type": "markdown",
      "source": [
        "**Question 3**"
      ],
      "metadata": {
        "id": "wHN_9B_nThuu"
      }
    },
    {
      "cell_type": "code",
      "source": [
        "# Dictionary:\n",
        "\n",
        "country_curr = {'India':'Rupees', 'USA':'Dollar', 'UK':'Pound', 'Japan':'Yen', 'Dubai':'Dirham'}\n",
        "print(country_curr)"
      ],
      "metadata": {
        "colab": {
          "base_uri": "https://localhost:8080/"
        },
        "id": "HmORLTqqSvce",
        "outputId": "a30743f0-a85d-407e-8f90-db838e9f5dd3"
      },
      "execution_count": null,
      "outputs": [
        {
          "output_type": "stream",
          "name": "stdout",
          "text": [
            "{'India': 'Rupees', 'USA': 'Dollar', 'UK': 'Pound', 'Japan': 'Yen', 'Dubai': 'Dirham'}\n"
          ]
        }
      ]
    },
    {
      "cell_type": "markdown",
      "source": [
        "**Question 4**"
      ],
      "metadata": {
        "id": "h7pHf3c-Vr9O"
      }
    },
    {
      "cell_type": "code",
      "source": [
        "my_tuple = ('Suraj','Antariksh','IRC',2024,True,19)\n",
        "\n",
        "#total_length = len(my_tuple)\n",
        "#print(total_length)\n",
        "\n",
        "print(my_tuple[::-1])\n",
        "#print(my_tuple[1:5])"
      ],
      "metadata": {
        "colab": {
          "base_uri": "https://localhost:8080/"
        },
        "id": "vXMPfwUnVrZ2",
        "outputId": "30aca06e-5b90-4a0c-93b6-dcd8e9a384dc"
      },
      "execution_count": null,
      "outputs": [
        {
          "output_type": "stream",
          "name": "stdout",
          "text": [
            "(19, True, 2024, 'IRC', 'Antariksh', 'Suraj')\n"
          ]
        }
      ]
    },
    {
      "cell_type": "markdown",
      "source": [
        "Numpy in Python is a general-purpose array-processing package. It provides a high-performance multidimensional array object and tools for working with these arrays. It is the fundamental package for scientific computing with Python"
      ],
      "metadata": {
        "id": "dVP50pf8AUot"
      }
    },
    {
      "cell_type": "markdown",
      "source": [
        "**Question 5**"
      ],
      "metadata": {
        "id": "1teBTM3tZPmp"
      }
    },
    {
      "cell_type": "code",
      "source": [
        "import numpy as np\n",
        "\n",
        "myarr = np.ones(6,dtype='int')\n",
        "print(myarr)"
      ],
      "metadata": {
        "colab": {
          "base_uri": "https://localhost:8080/"
        },
        "id": "xlcwhnd7Zd3o",
        "outputId": "ecdfcffa-13e5-4f85-97f3-8bd99277bac5"
      },
      "execution_count": null,
      "outputs": [
        {
          "output_type": "stream",
          "name": "stdout",
          "text": [
            "[1 1 1 1 1 1]\n"
          ]
        }
      ]
    },
    {
      "cell_type": "markdown",
      "source": [
        "**Question 6**"
      ],
      "metadata": {
        "id": "-RCBjgPxZSQm"
      }
    },
    {
      "cell_type": "code",
      "source": [
        "numpy_arr = [[1,2,3],[4,5,6],[7,8,9]]\n",
        "specified_row = [1,2,3]\n",
        "\n",
        "if specified_row in numpy_arr:\n",
        "  print(\"Specified row is present\")\n",
        "else:\n",
        "  print(\"Specified row is not present\")"
      ],
      "metadata": {
        "colab": {
          "base_uri": "https://localhost:8080/"
        },
        "id": "In6OnF4tagJy",
        "outputId": "5d2ec0cc-faf4-43fb-a368-607c25bc5130"
      },
      "execution_count": null,
      "outputs": [
        {
          "output_type": "stream",
          "name": "stdout",
          "text": [
            "Specified row is present\n"
          ]
        }
      ]
    },
    {
      "cell_type": "markdown",
      "source": [
        "**Question 7**"
      ],
      "metadata": {
        "id": "NcIqejz2ZUf3"
      }
    },
    {
      "cell_type": "code",
      "source": [
        "arr1 = np.array([[3,4,5], [2,2,3], [1,1,8]])\n",
        "arr2 = np.array([[5,6,7], [1,0,0], [2,6,2]])\n",
        "mul = arr1*arr2\n",
        "div = arr2/arr1\n",
        "print(\"Multiplication: \\n\",mul)\n",
        "print(\"Division: \\n\",div)"
      ],
      "metadata": {
        "colab": {
          "base_uri": "https://localhost:8080/"
        },
        "id": "P1UjLnaabe25",
        "outputId": "989b1c20-a65e-4d0d-a6b6-addb3e92dc69"
      },
      "execution_count": null,
      "outputs": [
        {
          "output_type": "stream",
          "name": "stdout",
          "text": [
            "Multiplication: \n",
            " [[15 24 35]\n",
            " [ 2  0  0]\n",
            " [ 2  6 16]]\n",
            "Division: \n",
            " [[1.66666667 1.5        1.4       ]\n",
            " [0.5        0.         0.        ]\n",
            " [2.         6.         0.25      ]]\n"
          ]
        }
      ]
    },
    {
      "cell_type": "markdown",
      "source": [
        "**Question 8**"
      ],
      "metadata": {
        "id": "zvThdSD6ZXlP"
      }
    },
    {
      "cell_type": "code",
      "source": [
        "my_arr = np.array([1,2,3,4,1,1,34,6,7,4,3,3,3,1,2,1,2])\n",
        "\n",
        "freq_value = np.bincount(my_arr).argmax()\n",
        "print(\"The most frequent value is: \", freq_value)\n",
        "\n",
        "# Calculating minimum and maximum using argmin and argmax methods\n",
        "print(\"Minimum element= \",my_arr[my_arr.argmin()])\n",
        "print(\"Maximum element= \",my_arr[my_arr.argmax()])"
      ],
      "metadata": {
        "colab": {
          "base_uri": "https://localhost:8080/"
        },
        "id": "sNpYGsrkZKwW",
        "outputId": "1f1daeec-7997-4bce-b75e-2d96a8fb6a8d"
      },
      "execution_count": null,
      "outputs": [
        {
          "output_type": "stream",
          "name": "stdout",
          "text": [
            "The most frequent value is:  1\n",
            "Minimum element=  1\n",
            "Maximum element=  34\n"
          ]
        }
      ]
    },
    {
      "cell_type": "markdown",
      "source": [
        "**Question 9**"
      ],
      "metadata": {
        "id": "BKvCAhcXZa_B"
      }
    },
    {
      "cell_type": "code",
      "source": [
        "import numpy as np\n",
        "\n",
        "ini_arr = np.array([[1, 2, 3], [2, 4, 5], [1, 2, 3]])\n",
        "\n",
        "# printing initial arrays\n",
        "print(\"initial array \\n\", str(ini_arr))\n",
        "\n",
        "# Multiplying arrays\n",
        "result = ini_arr.flatten()\n",
        "\n",
        "# printing result\n",
        "print(\"New resulting array: \\n\", result)"
      ],
      "metadata": {
        "colab": {
          "base_uri": "https://localhost:8080/"
        },
        "id": "pYSnEu0SiHzI",
        "outputId": "fda613fe-a0f6-4e5a-e1a3-759e5a957967"
      },
      "execution_count": null,
      "outputs": [
        {
          "output_type": "stream",
          "name": "stdout",
          "text": [
            "initial array \n",
            " [[1 2 3]\n",
            " [2 4 5]\n",
            " [1 2 3]]\n",
            "New resulting array: \n",
            " [1 2 3 2 4 5 1 2 3]\n"
          ]
        }
      ]
    },
    {
      "cell_type": "markdown",
      "source": [
        "***Question 10***"
      ],
      "metadata": {
        "id": "bmTiCdI7jW6n"
      }
    },
    {
      "cell_type": "code",
      "source": [
        "multi_arr = np.array([[3,4,1],[1,5,1],[5,8,9]])\n",
        "\n",
        "print(multi_arr)\n",
        "newarr = multi_arr.sum(axis=0)\n",
        "print(newarr)\n",
        "print(multi_arr.dtype)"
      ],
      "metadata": {
        "colab": {
          "base_uri": "https://localhost:8080/"
        },
        "id": "pjC5w07GjWsP",
        "outputId": "5b64026a-779b-4aab-8f8c-2f32ae16bd3c"
      },
      "execution_count": null,
      "outputs": [
        {
          "output_type": "stream",
          "name": "stdout",
          "text": [
            "[[3 4 1]\n",
            " [1 5 1]\n",
            " [5 8 9]]\n",
            "[ 9 17 11]\n",
            "int64\n"
          ]
        }
      ]
    },
    {
      "cell_type": "markdown",
      "source": [
        "***Question 11***"
      ],
      "metadata": {
        "id": "JjScU0Ng3SJf"
      }
    },
    {
      "cell_type": "code",
      "source": [
        "array_values = [2,3,3,4,4,5,71,12,9]\n",
        "\n",
        "print(\"The average of the values is \", np.average(array_values))\n",
        "print(\"The variance of the values is \", np.var(array_values))\n",
        "print(\"The standard deviation of the values is \",np.std(array_values))"
      ],
      "metadata": {
        "colab": {
          "base_uri": "https://localhost:8080/"
        },
        "id": "XZMN6HBf3lvG",
        "outputId": "e587aeec-dfbe-4bfc-ac7b-0b99905da307"
      },
      "execution_count": null,
      "outputs": [
        {
          "output_type": "stream",
          "name": "stdout",
          "text": [
            "The average of the values is  12.555555555555555\n",
            "The variance of the values is  436.2469135802469\n",
            "The standard deviation of the values is  20.88652468890521\n"
          ]
        }
      ]
    },
    {
      "cell_type": "markdown",
      "source": [
        "***Question 12***"
      ],
      "metadata": {
        "id": "NHZVNhX33ZUM"
      }
    },
    {
      "cell_type": "markdown",
      "source": [
        "The ***char.join()*** function in Python’s NumPy library is used to concatenate an array of strings in a given sequence seq. It basically **returns a string.**"
      ],
      "metadata": {
        "id": "lHy5yKLCVyKQ"
      }
    },
    {
      "cell_type": "code",
      "source": [
        "strarray = np.array(['Hello','World','Python','Here'])\n",
        "print(\"Before adding space:\",strarray)\n",
        "\n",
        "newarray = np.char.join(' ', strarray)\n",
        "print(\"After adding space:\", newarray)\n",
        "print(strarray.dtype)\n",
        "print(newarray.dtype)\n",
        "\n",
        "# newarray= np.char.join(separray, myarray)\n",
        "# Here separray is separator array i.e. here ' ' and myarray is the array that we wanna change\n"
      ],
      "metadata": {
        "colab": {
          "base_uri": "https://localhost:8080/"
        },
        "id": "2MOf8Lo1PNf0",
        "outputId": "59f9d9f8-4361-4363-a421-5c72710f1d19"
      },
      "execution_count": null,
      "outputs": [
        {
          "output_type": "stream",
          "name": "stdout",
          "text": [
            "Before adding space: ['Hello' 'World' 'Python' 'Here']\n",
            "After adding space: ['H e l l o' 'W o r l d' 'P y t h o n' 'H e r e']\n",
            "<U6\n",
            "<U11\n"
          ]
        }
      ]
    },
    {
      "cell_type": "markdown",
      "source": [
        "***Question 13***"
      ],
      "metadata": {
        "id": "gpdefgE-3bxW"
      }
    },
    {
      "cell_type": "code",
      "source": [
        "arri= np.array([[3,4,1],[1,5,1],[5,8,9]])\n",
        "print(\"Unsorted array:\\n\",arri)\n",
        "print(\"Sorted array:\\n\")\n",
        "np.sort(arri)"
      ],
      "metadata": {
        "colab": {
          "base_uri": "https://localhost:8080/"
        },
        "id": "A0gQLJ8wWLT4",
        "outputId": "c6e8502f-ac88-4cef-d27e-a39f0d733459"
      },
      "execution_count": null,
      "outputs": [
        {
          "output_type": "stream",
          "name": "stdout",
          "text": [
            "Unsorted array:\n",
            " [[3 4 1]\n",
            " [1 5 1]\n",
            " [5 8 9]]\n",
            "Sorted array:\n",
            "\n"
          ]
        },
        {
          "output_type": "execute_result",
          "data": {
            "text/plain": [
              "array([[1, 3, 4],\n",
              "       [1, 1, 5],\n",
              "       [5, 8, 9]])"
            ]
          },
          "metadata": {},
          "execution_count": 38
        }
      ]
    }
  ]
}