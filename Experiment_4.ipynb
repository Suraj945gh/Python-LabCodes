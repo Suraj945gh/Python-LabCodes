{
  "nbformat": 4,
  "nbformat_minor": 0,
  "metadata": {
    "colab": {
      "provenance": []
    },
    "kernelspec": {
      "name": "python3",
      "display_name": "Python 3"
    },
    "language_info": {
      "name": "python"
    }
  },
  "cells": [
    {
      "cell_type": "markdown",
      "source": [
        "Define a method in the inner class and access the same by code outside the outer class\n"
      ],
      "metadata": {
        "id": "VIlDm4YEeojV"
      }
    },
    {
      "cell_type": "code",
      "source": [
        "class OuterClass:\n",
        "\n",
        "  def display(self):\n",
        "    print(\"I am a method in the outer class!\")\n",
        "\n",
        "  class InnerClass:\n",
        "    def display(self):\n",
        "      print(\"I am a method in the inner class!\")\n",
        "\n",
        "inner_obj = OuterClass.InnerClass()\n",
        "inner_obj.display()\n",
        "outer_obj = OuterClass()\n",
        "outer_obj.display()"
      ],
      "metadata": {
        "colab": {
          "base_uri": "https://localhost:8080/"
        },
        "id": "DOZ5K3yveywl",
        "outputId": "5ee85792-9f77-4a7a-ad78-644d8d087062"
      },
      "execution_count": null,
      "outputs": [
        {
          "output_type": "stream",
          "name": "stdout",
          "text": [
            "I am a method in the inner class!\n",
            "I am a method in the outer class!\n"
          ]
        }
      ]
    },
    {
      "cell_type": "code",
      "source": [
        "# Method 2 using constructor\n",
        "class OuterClass2:\n",
        "    def __init__(self):\n",
        "        self.inner_instance = self.InnerClass2()\n",
        "\n",
        "    class InnerClass2:\n",
        "        def inner_method(self):\n",
        "            print(\"This is the inner method\")\n",
        "\n",
        "\n",
        "outer_instance = OuterClass2()\n",
        "outer_instance.inner_instance.inner_method()"
      ],
      "metadata": {
        "colab": {
          "base_uri": "https://localhost:8080/"
        },
        "id": "OcQ0BmNxrQOE",
        "outputId": "31de7e1f-7c5a-46f1-9995-6dc2a6ea7b68"
      },
      "execution_count": null,
      "outputs": [
        {
          "output_type": "stream",
          "name": "stdout",
          "text": [
            "This is the inner method\n"
          ]
        }
      ]
    },
    {
      "cell_type": "markdown",
      "source": [
        "- Lambda functions are mostly used as an argument to map, reduce and filter functions\n",
        "- map() changes, filter() selects  ==> Basic difference\n",
        "- map() maps the function to every element in the iterable, while\n",
        "- filter() filters out elements who satisfied the condition\n"
      ],
      "metadata": {
        "id": "L4EWgOf6YbhY"
      }
    },
    {
      "cell_type": "code",
      "source": [
        "# Negative-slicing example in detail\n",
        "mylist = [1,2,3,4,5,6,7,8,9,10]\n",
        "print(mylist[-3:])\n",
        "print(mylist[::-1]) #reverses completely\n",
        "print(mylist[-3:2:-1]) #Combination of Start, Stop, and Step\n",
        "print(mylist[-3:-8:-1]) #Negative Start, Stop, and Step"
      ],
      "metadata": {
        "colab": {
          "base_uri": "https://localhost:8080/"
        },
        "id": "NL9qSrI3Q_hg",
        "outputId": "ab86eca7-30cb-4367-d1e8-9160e061030f"
      },
      "execution_count": 14,
      "outputs": [
        {
          "output_type": "stream",
          "name": "stdout",
          "text": [
            "[8, 9, 10]\n",
            "[10, 9, 8, 7, 6, 5, 4, 3, 2, 1]\n",
            "[8, 7, 6, 5, 4]\n",
            "[8, 7, 6, 5, 4]\n"
          ]
        }
      ]
    },
    {
      "cell_type": "markdown",
      "source": [
        "Starting with the assignment questions:\n",
        "\n",
        "Question 1: Write a Python program, which returns a list with 2-tuples. Each tuple consists of a the order number and the product of the price per items and the quantity. The product should be increased by 10 € if the value of the order is smaller than 10,000 €. Write a Python program using lambda and map."
      ],
      "metadata": {
        "id": "wIO14OGHK9t9"
      }
    },
    {
      "cell_type": "code",
      "source": [
        "# tuple -> (order_no, price_per_item * qty)\n",
        "\n",
        "order_details1 = (123,5000)\n",
        "order_details2 = (124,11000)\n",
        "orders = (order_details1, order_details2)\n",
        "mapmyorder = map(lambda x: (x[0], x[1] if x[1]>10000 else x[1] + 10), orders)\n",
        "print(list(mapmyorder))\n",
        "\n",
        "# When you write lambda order: (order[0], order[1] + 10 if order[1] < 100 else order[1]),\n",
        "# you are explicitly stating that the lambda function should return a tuple.\n",
        "# this is the reason why we put () braces in lambda exp"
      ],
      "metadata": {
        "id": "StO4I38ae-cS",
        "colab": {
          "base_uri": "https://localhost:8080/"
        },
        "outputId": "0a6e9e7a-a138-4c1b-fa68-0bbc2c2119d7"
      },
      "execution_count": null,
      "outputs": [
        {
          "output_type": "stream",
          "name": "stdout",
          "text": [
            "[(123, 5010), (124, 11000)]\n"
          ]
        }
      ]
    },
    {
      "cell_type": "markdown",
      "source": [
        "Question 2: The same bookshop, but this time we work on a different list. The sublists of our lists look like this: [ordernumber, (article number, quantity, price per unit), ... (article number, quantity, price per unit) ] Write a program which returns a list of two tuples with (order number, total amount of order)."
      ],
      "metadata": {
        "id": "sntH5V9hrQsf"
      }
    },
    {
      "cell_type": "code",
      "source": [
        "order1 = (101,5,5000)  # tuple = (orderno, qty, price per unit)\n",
        "order2 = (105,23,2000)\n",
        "\n",
        "order_tuple = (order1, order2)\n",
        "\n",
        "display_order = map(lambda x: [x[0], x[1]*x[2]] , order_tuple)\n",
        "print(list(display_order))"
      ],
      "metadata": {
        "colab": {
          "base_uri": "https://localhost:8080/"
        },
        "id": "6_s_WS8trQVQ",
        "outputId": "2ea6e2a5-1858-4565-e61f-af7d99ad6fc3"
      },
      "execution_count": null,
      "outputs": [
        {
          "output_type": "stream",
          "name": "stdout",
          "text": [
            "[[101, 25000], [105, 46000]]\n"
          ]
        }
      ]
    },
    {
      "cell_type": "markdown",
      "source": [
        "Question 3: Use python lambda and the map function to multiply every element of a list by two.\n",
        "li = [5, 7, 22, 97, 54, 62, 77, 23, 73, 61]\n",
        "output [10, 14, 44, 194, 108, 124, 154, 46, 146, 122]\n"
      ],
      "metadata": {
        "id": "T5IkVcGftG0-"
      }
    },
    {
      "cell_type": "code",
      "source": [
        "li = [5, 7, 22, 97, 54, 62, 77, 23, 73, 61]\n",
        "\n",
        "doubler = map(lambda x: x*2, li)\n",
        "print(list(doubler))"
      ],
      "metadata": {
        "colab": {
          "base_uri": "https://localhost:8080/"
        },
        "id": "HtgngY2LtDlG",
        "outputId": "892d4462-0720-4e5f-dd50-9309ce0f8415"
      },
      "execution_count": null,
      "outputs": [
        {
          "output_type": "stream",
          "name": "stdout",
          "text": [
            "[10, 14, 44, 194, 108, 124, 154, 46, 146, 122]\n"
          ]
        }
      ]
    },
    {
      "cell_type": "markdown",
      "source": [
        "4.\tWrite a Python program to sort a list of tuples using Lambda.\n",
        "Original list of tuples:\n",
        "[('English', 88), ('Science', 90), ('Maths', 97), ('Social sciences', 82)]\n",
        "Sorting the List of Tuples:\n",
        "[('Social sciences', 82), ('English', 88), ('Science', 90), ('Maths', 97)]\n"
      ],
      "metadata": {
        "id": "B9U6FjIWtpau"
      }
    },
    {
      "cell_type": "markdown",
      "source": [
        "In python, a list can be sorted by two functions: obj.sort()and sorted(obj).\n",
        "- The basic distinction between sort() and sorted() is that the sort() function sorts the list in place, i.e. it modifies the list itself and returns a None value. The sorted() function creates a copy of the original list, sorts it, and returns this new list, leaving the original list unmodified."
      ],
      "metadata": {
        "id": "bx-ZqB-RwIAZ"
      }
    },
    {
      "cell_type": "code",
      "source": [
        "nested_tuples = [('English', 88), ('Science', 90), ('Maths', 97), ('Social sciences', 82)]\n",
        "\n",
        "# Here we've to sort according to the second element of the tuple\n",
        "sorted_list_of_tuples = sorted(nested_tuples, key= lambda x: x[1])\n",
        "print(sorted_list_of_tuples)"
      ],
      "metadata": {
        "colab": {
          "base_uri": "https://localhost:8080/"
        },
        "id": "rexm47XguM4U",
        "outputId": "bbb38f27-b0a3-4f78-f4e3-a655e7e7453f"
      },
      "execution_count": null,
      "outputs": [
        {
          "output_type": "stream",
          "name": "stdout",
          "text": [
            "[('Social sciences', 82), ('English', 88), ('Science', 90), ('Maths', 97)]\n"
          ]
        }
      ]
    },
    {
      "cell_type": "markdown",
      "source": [
        "5.\tWrite a Python program to extract year, month, date and time using Lambda.\n",
        "- Sample Output:\n",
        "2020-01-15 09:03:32.744178\n",
        "- 2020\n",
        "- 1\n",
        "- 15\n",
        "- 09:03:32.744178"
      ],
      "metadata": {
        "id": "Sa2yqEZBtvsD"
      }
    },
    {
      "cell_type": "code",
      "source": [
        "import datetime as dt\n",
        "\n",
        "now = dt.datetime.now()\n",
        "print(\"Year-Month-Date:\",now.strftime('%Y-%m-%d'))\n",
        "print(\"An instance of time:\",now.time()) # hour:min:sec.microsec"
      ],
      "metadata": {
        "colab": {
          "base_uri": "https://localhost:8080/"
        },
        "id": "AufmaUFkxY8l",
        "outputId": "d0eef4c4-a37a-48c1-9aef-7914cbb85541"
      },
      "execution_count": null,
      "outputs": [
        {
          "output_type": "stream",
          "name": "stdout",
          "text": [
            "Year-Month-Date: 2024-02-25\n",
            "Current time: 15:29:53.995130\n"
          ]
        }
      ]
    },
    {
      "cell_type": "code",
      "source": [
        "# To get the current time, we have to use the pytz(python timezone) library of python\n",
        "\n",
        "from datetime import datetime\n",
        "# importing datetime class from datetime module\n",
        "import pytz\n",
        "india_timezone = pytz.timezone('Asia/Kolkata')\n",
        "current_time = datetime.now(india_timezone).strftime('%H:%M:%S:%s')\n",
        "print('The current time in India is:',current_time)"
      ],
      "metadata": {
        "colab": {
          "base_uri": "https://localhost:8080/"
        },
        "id": "jnifLF6QFjeq",
        "outputId": "e81c04cf-3c86-441d-a5f6-20403db69f8f"
      },
      "execution_count": null,
      "outputs": [
        {
          "output_type": "stream",
          "name": "stdout",
          "text": [
            "The current time in India is: 23:10:19:1708902619\n"
          ]
        }
      ]
    },
    {
      "cell_type": "markdown",
      "source": [
        "6.\tWrite a Python program to create the next bigger number by rearranging the digits of a given number.\n",
        "- Original number: 12\n",
        "- Next bigger number: 21\n",
        "- Original number: 10\n",
        "- Next bigger number: False\n",
        "- Original number: 201\n",
        "- Next bigger number: 210\n"
      ],
      "metadata": {
        "id": "Q9SyXk9atyvK"
      }
    },
    {
      "cell_type": "code",
      "source": [
        "num = input('Enter the number: ')\n",
        "arr = list(map(int,num))  # Making every digit's dtype as int using map()\n",
        "# print(arr)\n",
        "# print(type(arr[0]))\n",
        "\n",
        "def nextBigCalculator(arr):\n",
        "  num1_index = None\n",
        "  # Find first digit which is smaller than digit next to it from RHS\n",
        "  for i in range(len(arr)-1,0,-1):\n",
        "    if arr[i]>arr[i-1]:\n",
        "      num1 = arr[i-1]\n",
        "      num1_index = i-1\n",
        "      break\n",
        "  else:\n",
        "    print('False')\n",
        "    return None\n",
        "\n",
        "  # Find the smallest digit to the right of digit found in step1\n",
        "  if num1_index is not None:\n",
        "    num2_index = None\n",
        "    for j in range(num1_index+1, len(arr)):\n",
        "      if arr[j] > num1:\n",
        "        if num2_index is None or arr[j] < arr[num2_index]:\n",
        "          num2_index = j\n",
        "\n",
        "    # Swap the digits found in step 2 and 1\n",
        "    def swapper(arr,num1_index,num2_index):\n",
        "      arr[num1_index], arr[num2_index] = arr[num2_index], arr[num1_index]\n",
        "\n",
        "    swapper(arr,num1_index,num2_index)\n",
        "\n",
        "    # Sort the digits to the right of num1_index in ascending order\n",
        "    arr[num1_index+1:] = sorted(arr[num1_index+1:])\n",
        "  return arr\n",
        "\n",
        "ans = nextBigCalculator(arr)\n",
        "if ans:\n",
        "  print('Next bigger number is: ', ''.join(map(str,ans)))"
      ],
      "metadata": {
        "colab": {
          "base_uri": "https://localhost:8080/"
        },
        "id": "-j1Wc2mjL21P",
        "outputId": "dbf75550-a9ff-4732-f2cd-7eeef1673a75"
      },
      "execution_count": 68,
      "outputs": [
        {
          "output_type": "stream",
          "name": "stdout",
          "text": [
            "Enter the number: 4321\n",
            "False\n"
          ]
        }
      ]
    },
    {
      "cell_type": "code",
      "source": [
        "# Way 2\n",
        "\n",
        "num = input('Enter the number')\n",
        "def bigNumMaker(num):\n",
        "  num = int(num)\n",
        "  num_list = list(str(num))\n",
        "  length = len(num_list)\n",
        "  for i in range(length-2,-1,-1):\n",
        "    for j in range(length-1,i,-1):\n",
        "      if num_list[j] > num_list[i]:\n",
        "        num_list[i],num_list[j] = num_list[j],num_list[i]\n",
        "        num_list[i+1:] = sorted(num_list[i+1:])\n",
        "        new_num = ''.join(num_list)\n",
        "        if int(new_num) > num:\n",
        "          return new_num\n",
        "        else:\n",
        "          return False\n",
        "  return False\n",
        "print(bigNumMaker(num))\n"
      ],
      "metadata": {
        "colab": {
          "base_uri": "https://localhost:8080/"
        },
        "id": "gbl4M1VJd98I",
        "outputId": "8ca1eb36-52bf-43da-9589-91cf992b6809"
      },
      "execution_count": 10,
      "outputs": [
        {
          "output_type": "stream",
          "name": "stdout",
          "text": [
            "Enter the number8421\n",
            "False\n"
          ]
        }
      ]
    },
    {
      "cell_type": "markdown",
      "source": [
        "7.\tWrite a Python program to reverse strings in a given list of string values using lambda.\n",
        "Original lists:\n",
        "['Red', 'Green', 'Blue', 'White', 'Black']\n",
        "Reverse strings of the said given list:\n",
        "['deR', 'neerG', 'eulB', 'etihW', 'kcalB']\n"
      ],
      "metadata": {
        "id": "rZEhDeP9t2JT"
      }
    },
    {
      "cell_type": "code",
      "source": [
        "list1 = ['Red', 'Green', 'Blue', 'White', 'Black']\n",
        "# Reverse strings of the said given list:\n",
        "result = list(map(lambda x: x[::-1], list1))\n",
        "print(result)\n"
      ],
      "metadata": {
        "colab": {
          "base_uri": "https://localhost:8080/"
        },
        "id": "RH5rwo5feeuy",
        "outputId": "b0067c54-f726-43f4-f96e-cd5f08473819"
      },
      "execution_count": null,
      "outputs": [
        {
          "output_type": "stream",
          "name": "stdout",
          "text": [
            "['deR', 'neerG', 'eulB', 'etihW', 'kcalB']\n"
          ]
        }
      ]
    },
    {
      "cell_type": "markdown",
      "source": [
        "8.\tWrite a Python program to count the occurrences of items in a given list using lambda.\n",
        "Original list:\n",
        "[3, 4, 5, 8, 0, 3, 8, 5, 0, 3, 1, 5, 2, 3, 4, 2]\n",
        "Count the occurrences of the items in the said list:\n",
        "{3: 4, 4: 2, 5: 3, 8: 2, 0: 2, 1: 1, 2: 2}\n"
      ],
      "metadata": {
        "id": "fUCaGZIvt7PS"
      }
    },
    {
      "cell_type": "code",
      "source": [
        "from collections import Counter\n",
        "original_list = [3, 4, 5, 8, 0, 3, 8, 5, 0, 3, 1, 5, 2, 3, 4, 2]\n",
        "\n",
        "occurence = Counter(original_list)\n",
        "print(occurence)\n",
        "\n",
        "# The second way is making a dictionary"
      ],
      "metadata": {
        "colab": {
          "base_uri": "https://localhost:8080/"
        },
        "id": "OMdq0uToepWJ",
        "outputId": "ddd1105a-e22f-4a3f-c672-429281371422"
      },
      "execution_count": 70,
      "outputs": [
        {
          "output_type": "stream",
          "name": "stdout",
          "text": [
            "Counter({3: 4, 5: 3, 4: 2, 8: 2, 0: 2, 2: 2, 1: 1})\n"
          ]
        }
      ]
    },
    {
      "cell_type": "markdown",
      "source": [
        "9.\tWrite a program using reduce() with a lambda expression to find product of elements in a list."
      ],
      "metadata": {
        "id": "-O_junyCt9gU"
      }
    },
    {
      "cell_type": "code",
      "source": [
        "from functools import reduce\n",
        "\n",
        "list1 = [3,4,1,2,2]\n",
        "# print(type(list1[2]))\n",
        "product = reduce(lambda x,y: x*y, list1)\n",
        "print(product)"
      ],
      "metadata": {
        "colab": {
          "base_uri": "https://localhost:8080/"
        },
        "id": "H4Kk5k4EBx5I",
        "outputId": "9a8f2bdf-bee4-46f9-ddfd-8c28a49412dc"
      },
      "execution_count": 77,
      "outputs": [
        {
          "output_type": "stream",
          "name": "stdout",
          "text": [
            "48\n"
          ]
        }
      ]
    },
    {
      "cell_type": "markdown",
      "source": [
        "10.\tWrite a Python program to remove all elements from a given list present in another list using lambda.\n",
        "Original lists:\n",
        "list1: [1, 2, 3, 4, 5, 6, 7, 8, 9, 10]\n",
        "list2: [2, 4, 6, 8]\n",
        "Remove all elements from 'list1' present in 'list2:\n",
        "[1, 3, 5, 7, 9, 10]\n"
      ],
      "metadata": {
        "id": "imnpTfqrt_fL"
      }
    },
    {
      "cell_type": "code",
      "source": [
        "list1 = [1, 2, 3, 4, 5, 6, 7, 8, 9, 10]\n",
        "list2 = [2, 4, 6, 8]\n",
        "\n",
        "result = list(filter(lambda x: x not in list2, list1))\n",
        "print(result)\n"
      ],
      "metadata": {
        "colab": {
          "base_uri": "https://localhost:8080/"
        },
        "id": "JFygn-bne4rQ",
        "outputId": "99b036ee-fc86-4688-e76c-49fcced37379"
      },
      "execution_count": 78,
      "outputs": [
        {
          "output_type": "stream",
          "name": "stdout",
          "text": [
            "[1, 3, 5, 7, 9, 10]\n"
          ]
        }
      ]
    },
    {
      "cell_type": "markdown",
      "source": [
        "11.\tRead the total marks of 5 students and convert it to the percentage.\n",
        " 1.\tFilter the top 3 students percentage from above result\n",
        " 2.\tIn the list of numbers from 1 to 20, replace multiples of 3 with \"Fizz\", multiples of 5 with \"Buzz\", and multiples of both 3 and 5 with \"FizzBuzz\". Use the lambda function to get the task done\n",
        " 3.\tTakes a list of numbers as input, computes the sum of the numbers, and prints the sum along with the average\n",
        "\n"
      ],
      "metadata": {
        "id": "FcvTrXqQuDIT"
      }
    },
    {
      "cell_type": "code",
      "source": [
        "# Read the total marks of 5 students and convert it to the percentage.\n",
        "marks = [80, 90, 75, 60, 50]\n",
        "percentages = list(map(lambda x: x / 5, marks))\n",
        "print(percentages)\n",
        "\n",
        "# Filter the top 3 students percentage from above result\n",
        "top_3_percentages = sorted(percentages, reverse=True)[:3]\n",
        "print(top_3_percentages)\n",
        "\n",
        "# In the list of numbers from 1 to 20, replace multiples of 3 with \"Fizz\", multiples of 5 with \"Buzz\", and multiples of both 3 and 5 with \"FizzBuzz\". Use the lambda function to get the task done\n",
        "numbers = list(range(1, 21))\n",
        "fizzbuzz = list(map(lambda x: \"FizzBuzz\" if x % 3 == 0 and x % 5 == 0 else \"Fizz\" if x % 3 == 0 else \"Buzz\" if x % 5 == 0 else x, numbers))\n",
        "print(fizzbuzz)\n",
        "\n",
        "# Takes a list of numbers as input, computes the sum of the numbers, and prints the sum along with the average\n",
        "numbers = [1, 2, 3, 4, 5]\n",
        "sum = reduce(lambda x, y: x + y, numbers)\n",
        "average = sum / len(numbers)\n",
        "print(f\"Sum: {sum}, Average: {average}\")\n"
      ],
      "metadata": {
        "colab": {
          "base_uri": "https://localhost:8080/"
        },
        "id": "GXwPgh4be9MD",
        "outputId": "e89f2a85-19cd-4993-9344-5f3f7ed8c975"
      },
      "execution_count": null,
      "outputs": [
        {
          "output_type": "stream",
          "name": "stdout",
          "text": [
            "[16.0, 18.0, 15.0, 12.0, 10.0]\n",
            "[18.0, 16.0, 15.0]\n",
            "[1, 2, 'Fizz', 4, 'Buzz', 'Fizz', 7, 8, 'Fizz', 'Buzz', 11, 'Fizz', 13, 14, 'FizzBuzz', 16, 17, 'Fizz', 19, 'Buzz']\n",
            "Sum: 15, Average: 3.0\n"
          ]
        }
      ]
    }
  ]
}